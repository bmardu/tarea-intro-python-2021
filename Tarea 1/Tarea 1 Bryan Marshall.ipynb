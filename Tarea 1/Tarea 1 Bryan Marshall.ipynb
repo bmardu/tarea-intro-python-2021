{
 "cells": [
  {
   "cell_type": "markdown",
   "metadata": {},
   "source": [
    "## 1. Imprimir un hola mundo"
   ]
  },
  {
   "cell_type": "code",
   "execution_count": 2,
   "metadata": {},
   "outputs": [
    {
     "name": "stdout",
     "output_type": "stream",
     "text": [
      "Hola mundo\n"
     ]
    }
   ],
   "source": [
    "print(\"Hola mundo\")"
   ]
  },
  {
   "cell_type": "markdown",
   "metadata": {},
   "source": [
    "## 2. Imprimir nombre, edad y país"
   ]
  },
  {
   "cell_type": "code",
   "execution_count": 9,
   "metadata": {},
   "outputs": [
    {
     "name": "stdout",
     "output_type": "stream",
     "text": [
      "Bryan Marshall Durán, 23, Costa Rica\n"
     ]
    }
   ],
   "source": [
    "nombre = \"Bryan Marshall Durán\"\n",
    "edad = 23\n",
    "pais = \"Costa Rica\"\n",
    "print(nombre  + \", \" + str(edad) + \", \" + pais)"
   ]
  },
  {
   "cell_type": "markdown",
   "metadata": {},
   "source": [
    "## 3. Tipos de datos"
   ]
  },
  {
   "cell_type": "code",
   "execution_count": 10,
   "metadata": {},
   "outputs": [
    {
     "name": "stdout",
     "output_type": "stream",
     "text": [
      "La variable nombre y pais son string\n",
      "La variable edad es un int\n"
     ]
    }
   ],
   "source": [
    "print(\"La variable nombre y pais son string\")\n",
    "print(\"La variable edad es un int\")"
   ]
  },
  {
   "cell_type": "markdown",
   "metadata": {},
   "source": [
    "## 4. Imprimir frase con salto de línea"
   ]
  },
  {
   "cell_type": "code",
   "execution_count": 4,
   "metadata": {},
   "outputs": [
    {
     "name": "stdout",
     "output_type": "stream",
     "text": [
      "En astronomía, la clasificación estelar \n",
      "es la clasificación de las estrellas en \n",
      "función de sus características espectrales.\n"
     ]
    }
   ],
   "source": [
    "print(\"En astronomía, la clasificación estelar \\nes la clasificación de las estrellas en \\nfunción de sus características espectrales.\")"
   ]
  },
  {
   "cell_type": "markdown",
   "metadata": {},
   "source": [
    "## 5. Imprimer con sep = '' y end = ''"
   ]
  },
  {
   "cell_type": "code",
   "execution_count": 8,
   "metadata": {},
   "outputs": [
    {
     "name": "stdout",
     "output_type": "stream",
     "text": [
      "Hipergigantes---Subgigantes---Secuencia principal*"
     ]
    }
   ],
   "source": [
    "print(\"Hipergigantes\",\"Subgigantes\", \"Secuencia principal\", sep = '---', end = \"*\")"
   ]
  },
  {
   "cell_type": "markdown",
   "metadata": {},
   "source": [
    "## 6. Cálculo masa de Júpiter"
   ]
  },
  {
   "cell_type": "code",
   "execution_count": 15,
   "metadata": {},
   "outputs": [
    {
     "name": "stdout",
     "output_type": "stream",
     "text": [
      "La masa de Júpiter es de 1.8978244274809163e+27 kg.\n"
     ]
    }
   ],
   "source": [
    "m_solar = 1.98892*10**30 #kilogramos\n",
    "m_jupiter = m_solar/1048 #kilogramos\n",
    "print(f\"La masa de Júpiter es de {m_jupiter} kg.\")"
   ]
  },
  {
   "cell_type": "code",
   "execution_count": 22,
   "metadata": {},
   "outputs": [
    {
     "name": "stdout",
     "output_type": "stream",
     "text": [
      "False\n",
      "False\n",
      "True\n",
      "True\n",
      "True\n"
     ]
    }
   ],
   "source": [
    "ua = 149597870700 #metros\n",
    "d_mercurio = 1 < 0.389 #AU\n",
    "d_venus = 1 < 0.723 #AU\n",
    "d_marte = 1 < 1.524 #AU\n",
    "d_jupiter = 1 < 5.203 #AU\n",
    "d_saturno = 1 < 9.537 #AU\n",
    "\n",
    "if d_mercurio == True:\n",
    "    print(\"True\")\n",
    "else:\n",
    "    print(\"False\")\n",
    "    \n",
    "if d_venus == True:\n",
    "    print(\"True\")\n",
    "else:\n",
    "    print(\"False\")\n",
    "    \n",
    "if d_marte == True:\n",
    "    print(\"True\")\n",
    "else:\n",
    "    print(\"False\")\n",
    "    \n",
    "if d_jupiter == True:\n",
    "    print(\"True\")\n",
    "else:\n",
    "    print(\"False\")\n",
    "    \n",
    "if d_saturno == True:\n",
    "    print(\"True\")\n",
    "else:\n",
    "    print(\"False\")"
   ]
  },
  {
   "cell_type": "code",
   "execution_count": null,
   "metadata": {},
   "outputs": [],
   "source": []
  }
 ],
 "metadata": {
  "kernelspec": {
   "display_name": "Python 3",
   "language": "python",
   "name": "python3"
  },
  "language_info": {
   "codemirror_mode": {
    "name": "ipython",
    "version": 3
   },
   "file_extension": ".py",
   "mimetype": "text/x-python",
   "name": "python",
   "nbconvert_exporter": "python",
   "pygments_lexer": "ipython3",
   "version": "3.7.4"
  }
 },
 "nbformat": 4,
 "nbformat_minor": 2
}
