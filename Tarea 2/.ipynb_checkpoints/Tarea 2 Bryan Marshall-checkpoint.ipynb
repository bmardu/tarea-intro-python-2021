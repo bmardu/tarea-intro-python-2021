{
 "cells": [
  {
   "cell_type": "markdown",
   "metadata": {},
   "source": [
    "# Primera Parte"
   ]
  },
  {
   "cell_type": "markdown",
   "metadata": {},
   "source": [
    "### 1. Cree una nueva variable llamada list_messier y asigne los elementos \"M1\", \"M200\", \"M17\", \"M31\",\"M87\", \"M104\". Imprima la lista completa utilizando print()."
   ]
  },
  {
   "cell_type": "code",
   "execution_count": 6,
   "metadata": {},
   "outputs": [],
   "source": [
    "list_messier = [\"M1\", \"M200\", \"M17\", \"M31\",\"M87\", \"M104\"]"
   ]
  },
  {
   "cell_type": "code",
   "execution_count": 7,
   "metadata": {},
   "outputs": [
    {
     "name": "stdout",
     "output_type": "stream",
     "text": [
      "M1\n",
      "M200\n",
      "M17\n",
      "M31\n",
      "M87\n",
      "M104\n"
     ]
    }
   ],
   "source": [
    "for x in list_messier:\n",
    "    print(x)"
   ]
  },
  {
   "cell_type": "markdown",
   "metadata": {},
   "source": [
    "### 2. Agrege un nuevo elemento \"M97\" a la lista existente list_messier utilizando la función .append()"
   ]
  },
  {
   "cell_type": "code",
   "execution_count": 8,
   "metadata": {},
   "outputs": [],
   "source": [
    "list_messier.append(\"M97\")"
   ]
  },
  {
   "cell_type": "code",
   "execution_count": 9,
   "metadata": {},
   "outputs": [
    {
     "data": {
      "text/plain": [
       "['M1', 'M200', 'M17', 'M31', 'M87', 'M104', 'M97']"
      ]
     },
     "execution_count": 9,
     "metadata": {},
     "output_type": "execute_result"
    }
   ],
   "source": [
    "list_messier"
   ]
  },
  {
   "cell_type": "markdown",
   "metadata": {},
   "source": [
    "### 3. Retorne el tercer elemento de la lista utilizando indexado."
   ]
  },
  {
   "cell_type": "code",
   "execution_count": 10,
   "metadata": {},
   "outputs": [
    {
     "name": "stdout",
     "output_type": "stream",
     "text": [
      "M17\n"
     ]
    }
   ],
   "source": [
    "print(list_messier[2])"
   ]
  },
  {
   "cell_type": "markdown",
   "metadata": {},
   "source": [
    "### 4. Retorne el último elemento de la lista utilizando índices negativos."
   ]
  },
  {
   "cell_type": "code",
   "execution_count": 11,
   "metadata": {},
   "outputs": [
    {
     "name": "stdout",
     "output_type": "stream",
     "text": [
      "M97\n"
     ]
    }
   ],
   "source": [
    "print(list_messier[-1])"
   ]
  },
  {
   "cell_type": "markdown",
   "metadata": {},
   "source": [
    "### 5. Las listas también pueden retornar rangos de valores utilizando slicing. Retorne el segundo, tercero, y cuarto elemento."
   ]
  },
  {
   "cell_type": "code",
   "execution_count": 12,
   "metadata": {},
   "outputs": [
    {
     "data": {
      "text/plain": [
       "['M200', 'M17', 'M31']"
      ]
     },
     "execution_count": 12,
     "metadata": {},
     "output_type": "execute_result"
    }
   ],
   "source": [
    "sliced = list_messier[1:4]\n",
    "sliced"
   ]
  },
  {
   "cell_type": "markdown",
   "metadata": {},
   "source": [
    "### 6. ¿Cuántos elementos tiene esta lista? Retorne el largo de la lista utilizando la función len()."
   ]
  },
  {
   "cell_type": "code",
   "execution_count": 13,
   "metadata": {},
   "outputs": [
    {
     "name": "stdout",
     "output_type": "stream",
     "text": [
      "El largo de la lista es de 7\n"
     ]
    }
   ],
   "source": [
    "length = len(list_messier)\n",
    "print(\"El largo de la lista es de \" + str(length))"
   ]
  },
  {
   "cell_type": "markdown",
   "metadata": {},
   "source": [
    "### 7. La palabra in se puede utilizar para saber si un elemento existe dentro de una lista. Utilice esta palabra junto a un condicional if e imprima la frase \"M87 se encuentra en la lista\", si y solo si el elemento \"M87\" se encuentra dentro de esta lista."
   ]
  },
  {
   "cell_type": "code",
   "execution_count": 14,
   "metadata": {},
   "outputs": [
    {
     "name": "stdout",
     "output_type": "stream",
     "text": [
      "M87 se encuentra en la lista\n"
     ]
    }
   ],
   "source": [
    "if \"M87\" in list_messier:\n",
    "    print(\"M87 se encuentra en la lista\")"
   ]
  },
  {
   "cell_type": "markdown",
   "metadata": {},
   "source": [
    "### 8. El elemento \"M200\" no es un objeto real del catálogo de Messier. Cambie el elemento \"M200\" por el elemento \"NGC 205\"."
   ]
  },
  {
   "cell_type": "code",
   "execution_count": 15,
   "metadata": {},
   "outputs": [
    {
     "data": {
      "text/plain": [
       "['M1', 'NGC 205', 'M17', 'M31', 'M87', 'M104', 'M97']"
      ]
     },
     "execution_count": 15,
     "metadata": {},
     "output_type": "execute_result"
    }
   ],
   "source": [
    "i = 0\n",
    "\n",
    "while i < len(list_messier):\n",
    "    if list_messier[i] == \"M200\":\n",
    "        list_messier[i] = \"NGC 205\"\n",
    "    i += 1\n",
    "    \n",
    "list_messier"
   ]
  },
  {
   "cell_type": "markdown",
   "metadata": {},
   "source": [
    "### 9. Inserte el valor \"M7\" entre los elementos \"M1\" y \"NGC 205\" utilizando la función ´.insert(). Imprima la lista completa."
   ]
  },
  {
   "cell_type": "code",
   "execution_count": 16,
   "metadata": {},
   "outputs": [
    {
     "data": {
      "text/plain": [
       "['M1', 'M7', 'NGC 205', 'M17', 'M31', 'M87', 'M104', 'M97']"
      ]
     },
     "execution_count": 16,
     "metadata": {},
     "output_type": "execute_result"
    }
   ],
   "source": [
    "i = 0\n",
    "\n",
    "while i < len(list_messier):\n",
    "    if list_messier[i] == \"M1\":\n",
    "        list_messier.insert(i+1,'M7')\n",
    "    i += 1\n",
    "    \n",
    "list_messier"
   ]
  },
  {
   "cell_type": "markdown",
   "metadata": {},
   "source": [
    "### 10. Borre el elemento \"M31\" de la lista, utilizando la función remove(). Imprima la lista completa."
   ]
  },
  {
   "cell_type": "code",
   "execution_count": 17,
   "metadata": {},
   "outputs": [
    {
     "name": "stdout",
     "output_type": "stream",
     "text": [
      "['M1', 'M7', 'NGC 205', 'M17', 'M87', 'M104', 'M97']\n"
     ]
    }
   ],
   "source": [
    "i = 0\n",
    "\n",
    "while i < len(list_messier):\n",
    "    if list_messier[i] == \"M31\":\n",
    "        list_messier.remove('M31')\n",
    "    i += 1\n",
    "    \n",
    "print(list_messier)"
   ]
  },
  {
   "cell_type": "markdown",
   "metadata": {},
   "source": [
    "### 11. Borre el primer elemento de la lista, en el índice 0 utilizando la función .pop(). Imprima la lista completa."
   ]
  },
  {
   "cell_type": "code",
   "execution_count": 18,
   "metadata": {},
   "outputs": [
    {
     "name": "stdout",
     "output_type": "stream",
     "text": [
      "['M7', 'NGC 205', 'M17', 'M87', 'M104', 'M97']\n"
     ]
    }
   ],
   "source": [
    "list_messier.pop(0)\n",
    "\n",
    "print(list_messier)"
   ]
  },
  {
   "cell_type": "markdown",
   "metadata": {},
   "source": [
    "### 12. Borre el penúltimo elemento de la lista utilizando la palabra clave del e.g. del mi_lista[indice_a_borrar]."
   ]
  },
  {
   "cell_type": "code",
   "execution_count": 19,
   "metadata": {},
   "outputs": [
    {
     "data": {
      "text/plain": [
       "['M7', 'NGC 205', 'M17', 'M87', 'M97']"
      ]
     },
     "execution_count": 19,
     "metadata": {},
     "output_type": "execute_result"
    }
   ],
   "source": [
    "del list_messier[-2]\n",
    "\n",
    "list_messier"
   ]
  },
  {
   "cell_type": "markdown",
   "metadata": {},
   "source": [
    "### 13. Elimine todos los elementos de la lista list_messier utilizando la función clear. ¿La lista aún existe? ¿Cómo podemos borrar la lista por completo?"
   ]
  },
  {
   "cell_type": "code",
   "execution_count": 20,
   "metadata": {},
   "outputs": [
    {
     "data": {
      "text/plain": [
       "[]"
      ]
     },
     "execution_count": 20,
     "metadata": {},
     "output_type": "execute_result"
    }
   ],
   "source": [
    "list_messier.clear()\n",
    "\n",
    "list_messier"
   ]
  },
  {
   "cell_type": "markdown",
   "metadata": {},
   "source": [
    "La lista aún existe porque la función clear() lo que hace es eliminar los elementos de la lista y no el objeto en sí (fuente: https://www.programiz.com/python-programming/methods/list/clear), es por eso que al llamar la lista aún se muestran los paréntesis cuadrados. Para eliminar la lista por completo, se puede usar el comando del, porque este sí elimina todo el elemento y no los ítems únicamente (fuente: https://data-flair.training/blogs/python-object/)."
   ]
  },
  {
   "cell_type": "markdown",
   "metadata": {},
   "source": [
    "### 14. Borre la lista list_messier por completo utilizando la palabra clave del. ¿Qué pasa si intentamos llamar a la lista?"
   ]
  },
  {
   "cell_type": "code",
   "execution_count": 21,
   "metadata": {},
   "outputs": [
    {
     "ename": "NameError",
     "evalue": "name 'list_messier' is not defined",
     "output_type": "error",
     "traceback": [
      "\u001b[1;31m---------------------------------------------------------------------------\u001b[0m",
      "\u001b[1;31mNameError\u001b[0m                                 Traceback (most recent call last)",
      "\u001b[1;32m<ipython-input-21-b47385b43799>\u001b[0m in \u001b[0;36m<module>\u001b[1;34m\u001b[0m\n\u001b[0;32m      1\u001b[0m \u001b[1;32mdel\u001b[0m \u001b[0mlist_messier\u001b[0m\u001b[1;33m\u001b[0m\u001b[1;33m\u001b[0m\u001b[0m\n\u001b[0;32m      2\u001b[0m \u001b[1;33m\u001b[0m\u001b[0m\n\u001b[1;32m----> 3\u001b[1;33m \u001b[0mlist_messier\u001b[0m\u001b[1;33m\u001b[0m\u001b[1;33m\u001b[0m\u001b[0m\n\u001b[0m",
      "\u001b[1;31mNameError\u001b[0m: name 'list_messier' is not defined"
     ]
    }
   ],
   "source": [
    "del list_messier\n",
    "\n",
    "list_messier"
   ]
  },
  {
   "cell_type": "markdown",
   "metadata": {},
   "source": [
    "Como se mencionó anteriormente, del elimina el elemento por completo, es por eso que cuando se intenta llamar a la lista se muestra un error en el cuál se establece que la lista creada no está definida."
   ]
  },
  {
   "cell_type": "markdown",
   "metadata": {},
   "source": [
    "# Segunda Parte"
   ]
  },
  {
   "cell_type": "markdown",
   "metadata": {},
   "source": [
    "### 1. La siguiente tabla presenta una tabla con las masas de los planetas del sistema solar."
   ]
  },
  {
   "cell_type": "markdown",
   "metadata": {},
   "source": [
    "##### Cree una nueva lista llamada list_masas y agregue todas las masas en la tabla, utilizando notación científica."
   ]
  },
  {
   "cell_type": "code",
   "execution_count": 22,
   "metadata": {
    "scrolled": false
   },
   "outputs": [
    {
     "data": {
      "text/plain": [
       "[3.302e+23,\n",
       " 4.869e+24,\n",
       " 5.9742e+24,\n",
       " 6.4191e+23,\n",
       " 1.8987e+27,\n",
       " 5.6851e+26,\n",
       " 8.6849e+25,\n",
       " 1.0244e+26]"
      ]
     },
     "execution_count": 22,
     "metadata": {},
     "output_type": "execute_result"
    }
   ],
   "source": [
    "list_masas = [3.302e+23, 4.8690e+24, 5.9742e+24, 6.4191e+23, 1.8987e+27, 5.6851e+26, 8.6849e+25, 1.0244e+26] #kilogramos\n",
    "list_masas"
   ]
  },
  {
   "cell_type": "markdown",
   "metadata": {},
   "source": [
    "#### ¿Cuál es el valor máximo en la lista? ¿Cuál es el valor mínimo? Utilice las funciones max() y min() para retornar ambos valores."
   ]
  },
  {
   "cell_type": "code",
   "execution_count": 23,
   "metadata": {},
   "outputs": [
    {
     "name": "stdout",
     "output_type": "stream",
     "text": [
      "La masa mayor es de 1.8987e+27 kg.\n",
      "La masa menor es de 3.302e+23 kg.\n"
     ]
    }
   ],
   "source": [
    "mayor = float(max(list_masas))\n",
    "menor = float(min(list_masas))\n",
    "\n",
    "print(f\"La masa mayor es de {mayor} kg.\")\n",
    "print(f\"La masa menor es de {menor} kg.\")"
   ]
  },
  {
   "cell_type": "markdown",
   "metadata": {},
   "source": [
    "#### Sume todos los valores de la lista utilizando la función sum() ¿Cuál es el total de la masa de los planetas?"
   ]
  },
  {
   "cell_type": "code",
   "execution_count": 24,
   "metadata": {},
   "outputs": [
    {
     "name": "stdout",
     "output_type": "stream",
     "text": [
      "La suma de todas las masas es equivalente a 2.66831431e+27 kg.\n"
     ]
    }
   ],
   "source": [
    "suma = sum(list_masas)\n",
    "\n",
    "print(f\"La suma de todas las masas es equivalente a {suma} kg.\")"
   ]
  },
  {
   "cell_type": "markdown",
   "metadata": {},
   "source": [
    "#### Confirme su respuesta anterior iterando sobre la lista y sumando sus valores: utilizando un for junto a un in y utilizando una variable de ayuda total_masas sume el total de las masas en la lista. Imprima el total de las masas."
   ]
  },
  {
   "cell_type": "code",
   "execution_count": 25,
   "metadata": {},
   "outputs": [
    {
     "name": "stdout",
     "output_type": "stream",
     "text": [
      "Con este resultado, la suma de masas es 2.66831431e+27 kg.\n"
     ]
    }
   ],
   "source": [
    "total_masas = 0\n",
    "\n",
    "for masa in list_masas:\n",
    "    total_masas = total_masas + masa\n",
    "\n",
    "if total_masas == suma:\n",
    "    print(f\"Con este resultado, la suma de masas es {total_masas} kg.\")\n",
    "else:\n",
    "    print(\"Los métodos no coinciden en la suma.\")"
   ]
  },
  {
   "cell_type": "markdown",
   "metadata": {},
   "source": [
    "#### Una masa solar equivale a 2e30 kg ¿A qué porcentaje de la masa del Sol equivale el total de la sumatoria de la masa de los planetas? Imprima el resultado."
   ]
  },
  {
   "cell_type": "code",
   "execution_count": 26,
   "metadata": {},
   "outputs": [
    {
     "name": "stdout",
     "output_type": "stream",
     "text": [
      "La suma de las masas equivale a un 0.1334157155% de la masa del Sol.\n"
     ]
    }
   ],
   "source": [
    "masa_sol = 2e30 #kilogramos\n",
    "porcentaje = 100*total_masas/masa_sol\n",
    "\n",
    "print(f\"La suma de las masas equivale a un {porcentaje}% de la masa del Sol.\")"
   ]
  },
  {
   "cell_type": "markdown",
   "metadata": {},
   "source": [
    "### 2. Cree un nuevo diccionario llamado dic_masas que contenga el nombre del planeta y su masa, de la forma \"Mercurio\" : 3,302e23. Imprima cada elemento en el diccionario utilizando un for loop."
   ]
  },
  {
   "cell_type": "code",
   "execution_count": 27,
   "metadata": {},
   "outputs": [
    {
     "name": "stdout",
     "output_type": "stream",
     "text": [
      "Mercurio - 3.302e+23  kg\n",
      "Venus - 4.869e+24  kg\n",
      "Tierra - 5.9742e+24  kg\n",
      "Marte - 6.4191e+23  kg\n",
      "Jupiter - 1.8987e+27  kg\n",
      "Saturno - 5.6851e+26  kg\n",
      "Urano - 8.6849e+25  kg\n",
      "Neptuno - 1.0244e+26  kg\n"
     ]
    }
   ],
   "source": [
    "dic_masas = {\"Mercurio\":3.302e+23, \"Venus\":4.8690e+24, \"Tierra\":5.9742e+24, \"Marte\":6.4191e+23, \"Jupiter\":1.8987e+27, \"Saturno\":5.6851e+26, \"Urano\":8.6849e+25, \"Neptuno\":1.0244e+26}\n",
    "\n",
    "for key, value in dic_masas.items():\n",
    "    print(key,\"-\", value, \" kg\")"
   ]
  },
  {
   "cell_type": "markdown",
   "metadata": {},
   "source": [
    "### 3. Imprima cada elemento dentro del dic_masas utilizando un while loop."
   ]
  },
  {
   "cell_type": "code",
   "execution_count": 28,
   "metadata": {},
   "outputs": [
    {
     "name": "stdout",
     "output_type": "stream",
     "text": [
      "Mercurio  -  3.302e+23  kg\n",
      "Venus  -  4.869e+24  kg\n",
      "Tierra  -  5.9742e+24  kg\n",
      "Marte  -  6.4191e+23  kg\n",
      "Jupiter  -  1.8987e+27  kg\n",
      "Saturno  -  5.6851e+26  kg\n",
      "Urano  -  8.6849e+25  kg\n",
      "Neptuno  -  1.0244e+26  kg\n"
     ]
    }
   ],
   "source": [
    "k = 0\n",
    "v = 0\n",
    "llaves = list(dic_masas.keys()) \n",
    "valores = list(dic_masas.values())\n",
    "\n",
    "while k <len(llaves):\n",
    "    print(llaves[k], \" - \", valores[v], \" kg\")\n",
    "    k += 1\n",
    "    v += 1"
   ]
  },
  {
   "cell_type": "markdown",
   "metadata": {},
   "source": [
    "### 4. Utilizando un for o while loop imprima la división de la masa del planeta entre 1_masa_solar * 100, e.g. masa_planeta/masa_solar *100."
   ]
  },
  {
   "cell_type": "code",
   "execution_count": 29,
   "metadata": {},
   "outputs": [
    {
     "name": "stdout",
     "output_type": "stream",
     "text": [
      "1.651e-05 %\n",
      "0.00024345 %\n",
      "0.00029871 %\n",
      "3.20955e-05 %\n",
      "0.09493499999999999 %\n",
      "0.028425500000000003 %\n",
      "0.0043424499999999994 %\n",
      "0.005122 %\n"
     ]
    }
   ],
   "source": [
    "for masa_planeta in list(dic_masas.values()):\n",
    "    calc = (masa_planeta/masa_sol)*100\n",
    "    print(calc, \"%\")"
   ]
  },
  {
   "cell_type": "markdown",
   "metadata": {},
   "source": [
    "### 5. Utilizando un for o while loop sume todas las masas de los planetas, imprima una variable llamada masa_total para guardar el resultado."
   ]
  },
  {
   "cell_type": "code",
   "execution_count": 30,
   "metadata": {},
   "outputs": [
    {
     "name": "stdout",
     "output_type": "stream",
     "text": [
      "2.66831431e+27 kg.\n"
     ]
    }
   ],
   "source": [
    "masa_total = 0\n",
    "\n",
    "for masa_planeta in list(dic_masas.values()):\n",
    "    masa_total = masa_total + masa_planeta\n",
    "\n",
    "print(masa_total, \"kg.\")"
   ]
  },
  {
   "cell_type": "markdown",
   "metadata": {},
   "source": [
    "### 6. Guarde el resultado del total de masas en un archivo .txt utilizando Python."
   ]
  },
  {
   "cell_type": "code",
   "execution_count": 1,
   "metadata": {},
   "outputs": [],
   "source": [
    "archivo = open('masa_total.txt', 'x')"
   ]
  },
  {
   "cell_type": "code",
   "execution_count": 35,
   "metadata": {},
   "outputs": [],
   "source": [
    "archivo = open('masa_total.txt', 'a')\n",
    "archivo.write(str(masa_total))\n",
    "archivo.close()"
   ]
  },
  {
   "cell_type": "code",
   "execution_count": 37,
   "metadata": {},
   "outputs": [
    {
     "data": {
      "text/plain": [
       "'2.66831431e+27'"
      ]
     },
     "execution_count": 37,
     "metadata": {},
     "output_type": "execute_result"
    }
   ],
   "source": [
    "archivo = open('masa_total.txt', 'r')\n",
    "archivo.read()"
   ]
  },
  {
   "cell_type": "code",
   "execution_count": null,
   "metadata": {},
   "outputs": [],
   "source": []
  }
 ],
 "metadata": {
  "kernelspec": {
   "display_name": "Python 3",
   "language": "python",
   "name": "python3"
  },
  "language_info": {
   "codemirror_mode": {
    "name": "ipython",
    "version": 3
   },
   "file_extension": ".py",
   "mimetype": "text/x-python",
   "name": "python",
   "nbconvert_exporter": "python",
   "pygments_lexer": "ipython3",
   "version": "3.7.4"
  }
 },
 "nbformat": 4,
 "nbformat_minor": 2
}
